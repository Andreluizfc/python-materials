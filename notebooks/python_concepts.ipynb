{
  "nbformat": 4,
  "nbformat_minor": 0,
  "metadata": {
    "colab": {
      "name": "python_concepts.ipynb",
      "provenance": [],
      "collapsed_sections": [
        "IZEvSNVnODLK",
        "IbReHtBoWCWM"
      ],
      "toc_visible": true,
      "authorship_tag": "ABX9TyPSnV20p1utw+MbdemFo8mj",
      "include_colab_link": true
    },
    "kernelspec": {
      "name": "python3",
      "display_name": "Python 3"
    },
    "language_info": {
      "name": "python"
    }
  },
  "cells": [
    {
      "cell_type": "markdown",
      "metadata": {
        "id": "view-in-github",
        "colab_type": "text"
      },
      "source": [
        "<a href=\"https://colab.research.google.com/github/Andreluizfc/python-materials/blob/main/notebooks/python_concepts.ipynb\" target=\"_parent\"><img src=\"https://colab.research.google.com/assets/colab-badge.svg\" alt=\"Open In Colab\"/></a>"
      ]
    },
    {
      "cell_type": "markdown",
      "metadata": {
        "id": "aJqNz1P789wX"
      },
      "source": [
        "# Pythonic concepts"
      ]
    },
    {
      "cell_type": "markdown",
      "metadata": {
        "id": "vycfx6Fn9D6t"
      },
      "source": [
        "## 1 Comprehensions\n"
      ]
    },
    {
      "cell_type": "markdown",
      "metadata": {
        "id": "aAtsk0QY_xrX"
      },
      "source": [
        "**Syntax:**\n",
        "\n",
        "`new_list = [expression for member in iterable]`"
      ]
    },
    {
      "cell_type": "code",
      "metadata": {
        "colab": {
          "base_uri": "https://localhost:8080/"
        },
        "id": "J1mx7pab8ajT",
        "outputId": "f40df239-f460-4691-e8ce-fecbd504b9c2"
      },
      "source": [
        "# Squared Numbers\n",
        "\n",
        "import numpy as np\n",
        "\n",
        "numbers = np.arange(1,11)\n",
        "numbers_squared = []\n",
        "\n",
        "for item in numbers:\n",
        "  numbers_squared.append(item**2)\n",
        "numbers_squared"
      ],
      "execution_count": 1,
      "outputs": [
        {
          "output_type": "execute_result",
          "data": {
            "text/plain": [
              "[1, 4, 9, 16, 25, 36, 49, 64, 81, 100]"
            ]
          },
          "metadata": {
            "tags": []
          },
          "execution_count": 1
        }
      ]
    },
    {
      "cell_type": "code",
      "metadata": {
        "colab": {
          "base_uri": "https://localhost:8080/"
        },
        "id": "p6QOEm-3-xEb",
        "outputId": "6cf6fe20-ecab-4bf4-8dc5-ac19dea0e4b0"
      },
      "source": [
        "# With comprehension\n",
        "\n",
        "numbers_squared = [item**2 for item in numbers]\n",
        "numbers_squared\n"
      ],
      "execution_count": 2,
      "outputs": [
        {
          "output_type": "execute_result",
          "data": {
            "text/plain": [
              "[1, 4, 9, 16, 25, 36, 49, 64, 81, 100]"
            ]
          },
          "metadata": {
            "tags": []
          },
          "execution_count": 2
        }
      ]
    },
    {
      "cell_type": "markdown",
      "metadata": {
        "id": "npcprEeh-Y7s"
      },
      "source": [
        "### Comprehensions with Conditionals\n",
        "\n",
        "**Syntax:**\n",
        "\n",
        "`new_list = [expression for member in iterable (if conditional)]`"
      ]
    },
    {
      "cell_type": "code",
      "metadata": {
        "colab": {
          "base_uri": "https://localhost:8080/"
        },
        "id": "k43MogPb-TeF",
        "outputId": "60679bb3-3913-4067-dfc2-329cb1dc387a"
      },
      "source": [
        "# Square the number if number is even\n",
        "\n",
        "result = []\n",
        "\n",
        "for item in numbers:\n",
        "  if item % 2 == 0:\n",
        "    result.append(item**2)\n",
        "result\n"
      ],
      "execution_count": 3,
      "outputs": [
        {
          "output_type": "execute_result",
          "data": {
            "text/plain": [
              "[4, 16, 36, 64, 100]"
            ]
          },
          "metadata": {
            "tags": []
          },
          "execution_count": 3
        }
      ]
    },
    {
      "cell_type": "code",
      "metadata": {
        "colab": {
          "base_uri": "https://localhost:8080/"
        },
        "id": "IK1ndqCA-Ib5",
        "outputId": "bdf8b973-695a-46ee-e6d2-71d22d4ac97b"
      },
      "source": [
        "# With comprehension\n",
        "\n",
        "result = [item**2 for item in numbers if item % 2 == 0]\n",
        "result"
      ],
      "execution_count": 4,
      "outputs": [
        {
          "output_type": "execute_result",
          "data": {
            "text/plain": [
              "[4, 16, 36, 64, 100]"
            ]
          },
          "metadata": {
            "tags": []
          },
          "execution_count": 4
        }
      ]
    },
    {
      "cell_type": "code",
      "metadata": {
        "colab": {
          "base_uri": "https://localhost:8080/"
        },
        "id": "PvJ0fC_c_0Mx",
        "outputId": "ec6a461f-c867-4ea5-b8d5-97a9dbd99e81"
      },
      "source": [
        "# With else condition\n",
        "\n",
        "result = []\n",
        "\n",
        "for item in numbers:\n",
        "  if item % 2 == 0:\n",
        "    result.append(item**2)\n",
        "  else:\n",
        "    result.append(item)\n",
        "result"
      ],
      "execution_count": 5,
      "outputs": [
        {
          "output_type": "execute_result",
          "data": {
            "text/plain": [
              "[1, 4, 3, 16, 5, 36, 7, 64, 9, 100]"
            ]
          },
          "metadata": {
            "tags": []
          },
          "execution_count": 5
        }
      ]
    },
    {
      "cell_type": "code",
      "metadata": {
        "colab": {
          "base_uri": "https://localhost:8080/"
        },
        "id": "AiwcHuqV_7pJ",
        "outputId": "1687a30b-7a57-4c3a-9729-e03dd486f1fb"
      },
      "source": [
        "# With comprehension\n",
        "\n",
        "result = [item**2 if item % 2 == 0 else item for item in numbers]\n",
        "result\n"
      ],
      "execution_count": 6,
      "outputs": [
        {
          "output_type": "execute_result",
          "data": {
            "text/plain": [
              "[1, 4, 3, 16, 5, 36, 7, 64, 9, 100]"
            ]
          },
          "metadata": {
            "tags": []
          },
          "execution_count": 6
        }
      ]
    },
    {
      "cell_type": "markdown",
      "metadata": {
        "id": "BmFjYJmeAdqt"
      },
      "source": [
        "### Multiple Comprehensions"
      ]
    },
    {
      "cell_type": "code",
      "metadata": {
        "colab": {
          "base_uri": "https://localhost:8080/"
        },
        "id": "Z33BDg3SAkVn",
        "outputId": "c63f9619-9825-4d4c-cda8-be6a901c1baa"
      },
      "source": [
        "# Transpose a matrix\n",
        "\n",
        "transposed = []\n",
        "matrix = [[1, 2, 3, 4], [5, 6, 7, 8], [9, 10, 11, 12]]\n",
        "\n",
        "for i in range(len(matrix[0])):\n",
        "    transposed_line = []\n",
        "\n",
        "    for line in matrix:\n",
        "        transposed_line.append(line[i])\n",
        "    transposed.append(transposed_line)\n",
        "  \n",
        "\n",
        "transposed"
      ],
      "execution_count": 7,
      "outputs": [
        {
          "output_type": "execute_result",
          "data": {
            "text/plain": [
              "[[1, 5, 9], [2, 6, 10], [3, 7, 11], [4, 8, 12]]"
            ]
          },
          "metadata": {
            "tags": []
          },
          "execution_count": 7
        }
      ]
    },
    {
      "cell_type": "code",
      "metadata": {
        "colab": {
          "base_uri": "https://localhost:8080/"
        },
        "id": "AoN5RV5cAkgW",
        "outputId": "6786a99b-ab61-4b7d-8e4f-0ec89afae851"
      },
      "source": [
        "transposed = [[line[i] for line in matrix] for i in range(4)]\n",
        "transposed"
      ],
      "execution_count": 8,
      "outputs": [
        {
          "output_type": "execute_result",
          "data": {
            "text/plain": [
              "[[1, 5, 9], [2, 6, 10], [3, 7, 11], [4, 8, 12]]"
            ]
          },
          "metadata": {
            "tags": []
          },
          "execution_count": 8
        }
      ]
    },
    {
      "cell_type": "markdown",
      "metadata": {
        "id": "IZEvSNVnODLK"
      },
      "source": [
        "## 2 Decorators (TODO)"
      ]
    },
    {
      "cell_type": "markdown",
      "metadata": {
        "id": "Jh7odYC6OKZM"
      },
      "source": [
        "A decorator is just a regular Python function. Decorators wrap another function, modifying its behavior."
      ]
    },
    {
      "cell_type": "code",
      "metadata": {
        "colab": {
          "base_uri": "https://localhost:8080/"
        },
        "id": "Uj2GS-g_OKfS",
        "outputId": "08f46a73-af73-41c8-a5da-fffd1f02813f"
      },
      "source": [
        "def my_decorator(func):\n",
        "    def wrapper():\n",
        "        print(\"Something is happening before the function is called.\")\n",
        "        func()\n",
        "        print(\"Something is happening after the function is called.\")\n",
        "    return wrapper\n",
        "\n",
        "@my_decorator\n",
        "def say_whee():\n",
        "    print(\"Whee!\")\n",
        "\n",
        "say_whee()"
      ],
      "execution_count": 9,
      "outputs": [
        {
          "output_type": "stream",
          "text": [
            "Something is happening before the function is called.\n",
            "Whee!\n",
            "Something is happening after the function is called.\n"
          ],
          "name": "stdout"
        }
      ]
    },
    {
      "cell_type": "markdown",
      "metadata": {
        "id": "7JAcH1hmVObC"
      },
      "source": [
        "## 3 Map, Filter and Reduce\n"
      ]
    },
    {
      "cell_type": "markdown",
      "metadata": {
        "id": "r2_2teAAVPGs"
      },
      "source": [
        "### 3.1 - Mapping\n"
      ]
    },
    {
      "cell_type": "markdown",
      "metadata": {
        "id": "rC3zHj3-mPAW"
      },
      "source": [
        "\n",
        "Mapping consists of applying a transformation function to an iterable to produce a new iterable. Items in the new iterable are produced by calling the transformation function on each item in the original iterable.\n",
        "\n",
        "**Syntax:**\n",
        "\n",
        "`map(function, iterable, ...)`"
      ]
    },
    {
      "cell_type": "code",
      "metadata": {
        "colab": {
          "base_uri": "https://localhost:8080/"
        },
        "id": "OsELO-04Veh0",
        "outputId": "38199f05-b484-4c7e-e9ce-a883fe91916d"
      },
      "source": [
        "# Create a list of squared elements\n",
        "\n",
        "numbers = [1, 2, 3, 4, 5]\n",
        "squared = []\n",
        "\n",
        "for num in numbers:\n",
        "  squared.append(num ** 2)\n",
        "print(squared)\n",
        "\n",
        "# Using map function\n",
        "\n",
        "def square(number):\n",
        "  return number ** 2\n",
        "\n",
        "squared = list(map(square, numbers))\n",
        "print(squared)"
      ],
      "execution_count": 10,
      "outputs": [
        {
          "output_type": "stream",
          "text": [
            "[1, 4, 9, 16, 25]\n",
            "[1, 4, 9, 16, 25]\n"
          ],
          "name": "stdout"
        }
      ]
    },
    {
      "cell_type": "code",
      "metadata": {
        "colab": {
          "base_uri": "https://localhost:8080/"
        },
        "id": "3i2jNuSqYNL9",
        "outputId": "1f67bb42-a376-4a70-8711-320fec2bb0af"
      },
      "source": [
        "# Convert values\n",
        "\n",
        "str_nums = [\"2\", \"7\", \"9\", \"4\"]\n",
        "\n",
        "int_nums = list(map(int, str_nums))\n",
        "int_nums"
      ],
      "execution_count": 11,
      "outputs": [
        {
          "output_type": "execute_result",
          "data": {
            "text/plain": [
              "[2, 7, 9, 4]"
            ]
          },
          "metadata": {
            "tags": []
          },
          "execution_count": 11
        }
      ]
    },
    {
      "cell_type": "code",
      "metadata": {
        "colab": {
          "base_uri": "https://localhost:8080/"
        },
        "id": "sBJYr-rCYo8I",
        "outputId": "9432c324-3dd1-4226-9c6c-005cb2985774"
      },
      "source": [
        "# Using lambda\n",
        "\n",
        "numbers = [1, 2, 3, 4, 5]\n",
        "\n",
        "squared = map(lambda num: num ** 2, numbers)\n",
        "list(squared)"
      ],
      "execution_count": 12,
      "outputs": [
        {
          "output_type": "execute_result",
          "data": {
            "text/plain": [
              "[1, 4, 9, 16, 25]"
            ]
          },
          "metadata": {
            "tags": []
          },
          "execution_count": 12
        }
      ]
    },
    {
      "cell_type": "code",
      "metadata": {
        "colab": {
          "base_uri": "https://localhost:8080/"
        },
        "id": "PXQTH8CuYtst",
        "outputId": "1805740e-289f-49bd-f0ff-323f5267396f"
      },
      "source": [
        "# Map vs Comprehensions\n",
        "\n",
        "# Transformation function\n",
        "def square(number):\n",
        "    return number ** 2\n",
        "\n",
        "numbers = [1, 2, 3, 4, 5, 6]\n",
        "\n",
        "# Using map()\n",
        "print(list(map(square, numbers)))\n",
        "\n",
        "# Using a list comprehension\n",
        "print([square(x) for x in numbers])"
      ],
      "execution_count": 13,
      "outputs": [
        {
          "output_type": "stream",
          "text": [
            "[1, 4, 9, 16, 25, 36]\n",
            "[1, 4, 9, 16, 25, 36]\n"
          ],
          "name": "stdout"
        }
      ]
    },
    {
      "cell_type": "code",
      "metadata": {
        "colab": {
          "base_uri": "https://localhost:8080/"
        },
        "id": "tmYPSbH7arpW",
        "outputId": "b9f5cdcb-45bb-4aac-e9c1-f2ea7626d02c"
      },
      "source": [
        "# More than one iterable\n",
        "\n",
        "circle_areas = [3.56773, 5.57668, 4.00914, 56.24241, 9.01344, 32.00013]\n",
        "\n",
        "result = list(map(round, circle_areas, range(1,7)))\n",
        "\n",
        "print(result)"
      ],
      "execution_count": 14,
      "outputs": [
        {
          "output_type": "stream",
          "text": [
            "[3.6, 5.58, 4.009, 56.2424, 9.01344, 32.00013]\n"
          ],
          "name": "stdout"
        }
      ]
    },
    {
      "cell_type": "markdown",
      "metadata": {
        "id": "6p5GVGi8YDiK"
      },
      "source": [
        ""
      ]
    },
    {
      "cell_type": "markdown",
      "metadata": {
        "id": "4APT_zIvVPOn"
      },
      "source": [
        "### 3.2 - Filtering\n"
      ]
    },
    {
      "cell_type": "markdown",
      "metadata": {
        "id": "rNPaNvbamKzN"
      },
      "source": [
        "\n",
        "Filtering consists of applying a predicate or Boolean-valued function to an iterable to generate a new iterable. Items in the new iterable are produced by filtering out any items in the original iterable that make the predicate function return false.\n",
        "\n",
        "**Syntax:**\n",
        "\n",
        "`filter(function, iterable)`\n"
      ]
    },
    {
      "cell_type": "code",
      "metadata": {
        "colab": {
          "base_uri": "https://localhost:8080/"
        },
        "id": "fWL8WZavWHnR",
        "outputId": "1cf0d744-25dd-4570-f413-c36f4b752749"
      },
      "source": [
        "# Filter scores > 75\n",
        "\n",
        "scores = [66, 90, 68, 59, 76, 60, 88, 74, 81, 65]\n",
        "\n",
        "def above_average(score):\n",
        "    return score > 75\n",
        "\n",
        "over_75 = list(filter(above_average, scores))\n",
        "\n",
        "print(over_75)"
      ],
      "execution_count": 15,
      "outputs": [
        {
          "output_type": "stream",
          "text": [
            "[90, 76, 88, 81]\n"
          ],
          "name": "stdout"
        }
      ]
    },
    {
      "cell_type": "markdown",
      "metadata": {
        "id": "IbReHtBoWCWM"
      },
      "source": [
        "### 3.2 - Reducing"
      ]
    },
    {
      "cell_type": "markdown",
      "metadata": {
        "id": "f4MvxwJDmGaA"
      },
      "source": [
        "\n",
        "Reducing consists of applying a reduction function to an iterable to produce a single cumulative value. It applies a rolling computation to sequential pairs of values in a list. \n",
        "\n",
        "Python’s reduce() operates on any iterable—not just lists—and performs the following steps:\n",
        "\n",
        "* Apply a function (or callable) to the first two items in an iterable and generate a partial result.\n",
        "* Use that partial result, together with the third item in the iterable, to generate another partial result.\n",
        "* Repeat the process until the iterable is exhausted and then return a single cumulative value.\n",
        "\n",
        "**Syntax:**\n",
        "\n",
        "`reduce(function, iterable[, initializer])`"
      ]
    },
    {
      "cell_type": "code",
      "metadata": {
        "colab": {
          "base_uri": "https://localhost:8080/"
        },
        "id": "sPQ1L63tWCa-",
        "outputId": "37cb82af-9cc1-4dcc-f7bd-6fafb9590fe9"
      },
      "source": [
        "# Example with adding numbers in a list\n",
        "\n",
        "from functools import reduce\n",
        "\n",
        "def my_add(a, b):\n",
        "    result = a + b\n",
        "    print(f\"{a} + {b} = {result}\")\n",
        "    return result\n",
        "\n",
        "\n",
        "numbers = [0, 1, 2, 3, 4]\n",
        "\n",
        "reduce(my_add, numbers)"
      ],
      "execution_count": 16,
      "outputs": [
        {
          "output_type": "stream",
          "text": [
            "0 + 1 = 1\n",
            "1 + 2 = 3\n",
            "3 + 3 = 6\n",
            "6 + 4 = 10\n"
          ],
          "name": "stdout"
        },
        {
          "output_type": "execute_result",
          "data": {
            "text/plain": [
              "10"
            ]
          },
          "metadata": {
            "tags": []
          },
          "execution_count": 16
        }
      ]
    },
    {
      "cell_type": "markdown",
      "metadata": {
        "id": "z4VVA8rXjJIE"
      },
      "source": [
        "#### The Optional Argument: initializer\n",
        "\n",
        "The third argument to Python’s reduce(), called initializer, is optional. If you supply a value to initializer, then reduce() will feed it to the first call of function as its first argument."
      ]
    },
    {
      "cell_type": "code",
      "metadata": {
        "colab": {
          "base_uri": "https://localhost:8080/"
        },
        "id": "JidfdDIXVPYJ",
        "outputId": "e1e3f784-d1d7-4b2b-fa02-7b05e44c01b8"
      },
      "source": [
        "numbers = [0, 1, 2, 3, 4]\n",
        "\n",
        "reduce(my_add, numbers, 100)"
      ],
      "execution_count": 17,
      "outputs": [
        {
          "output_type": "stream",
          "text": [
            "100 + 0 = 100\n",
            "100 + 1 = 101\n",
            "101 + 2 = 103\n",
            "103 + 3 = 106\n",
            "106 + 4 = 110\n"
          ],
          "name": "stdout"
        },
        {
          "output_type": "execute_result",
          "data": {
            "text/plain": [
              "110"
            ]
          },
          "metadata": {
            "tags": []
          },
          "execution_count": 17
        }
      ]
    },
    {
      "cell_type": "markdown",
      "metadata": {
        "id": "a4nwjVj2kBAp"
      },
      "source": [
        "#### Comparing reduce() and accumulate()\n"
      ]
    },
    {
      "cell_type": "markdown",
      "metadata": {
        "id": "znuHl1Wjl4YS"
      },
      "source": [
        "A Python function called accumulate() lives in itertools and behaves similarly to reduce(). accumulate(iterable[, func]) accepts one required argument, iterable, which can be any Python iterable. The optional second argument, func, needs to be a function (or a callable object) that takes two arguments and returns a single value.\n",
        "\n",
        "accumulate() returns an iterator. Each item in this iterator will be the accumulated result of the computation that func performs. The default computation is the sum. If you don’t supply a function to accumulate(), then each item in the resulting iterator will be the accumulated sum of the previous items in iterable plus the item at hand."
      ]
    },
    {
      "cell_type": "code",
      "metadata": {
        "colab": {
          "base_uri": "https://localhost:8080/"
        },
        "id": "EfNF19OPlaWE",
        "outputId": "10d02c55-afba-4fee-fe90-21b926ee32ef"
      },
      "source": [
        "from itertools import accumulate\n",
        "from operator import add\n",
        "\n",
        "numbers = [1, 2, 3, 4]\n",
        "\n",
        "print(list(accumulate(numbers)))\n",
        "\n",
        "print(reduce(add, numbers))"
      ],
      "execution_count": 20,
      "outputs": [
        {
          "output_type": "stream",
          "text": [
            "[1, 3, 6, 10]\n",
            "10\n"
          ],
          "name": "stdout"
        }
      ]
    },
    {
      "cell_type": "markdown",
      "metadata": {
        "id": "4NpAYxNRl0JJ"
      },
      "source": [
        "If, on the other hand, you supply a two-argument function (or callable) to the func argument of accumulate(), then the items in the resulting iterator will be the accumulated result of the computation performed by func. Here’s an example that uses operator.mul():"
      ]
    },
    {
      "cell_type": "code",
      "metadata": {
        "colab": {
          "base_uri": "https://localhost:8080/"
        },
        "id": "rZ4aDpzll6Wu",
        "outputId": "bd7eaa2b-a427-414c-ae1b-a37970715481"
      },
      "source": [
        "from operator import mul\n",
        "\n",
        "numbers = [1, 2, 3, 4]\n",
        "\n",
        "print(list(accumulate(numbers, mul)))\n",
        "\n",
        "print(reduce(mul, numbers))"
      ],
      "execution_count": 21,
      "outputs": [
        {
          "output_type": "stream",
          "text": [
            "[1, 2, 6, 24]\n",
            "24\n"
          ],
          "name": "stdout"
        }
      ]
    },
    {
      "cell_type": "markdown",
      "metadata": {
        "id": "dWrGh4VTlESd"
      },
      "source": [
        "## 4 Generators (TODO)"
      ]
    }
  ]
}